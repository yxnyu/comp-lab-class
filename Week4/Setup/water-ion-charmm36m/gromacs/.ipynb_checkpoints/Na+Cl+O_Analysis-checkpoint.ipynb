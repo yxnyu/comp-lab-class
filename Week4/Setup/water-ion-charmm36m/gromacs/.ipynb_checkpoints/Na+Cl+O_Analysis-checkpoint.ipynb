{
 "cells": [
  {
   "cell_type": "code",
   "execution_count": 2,
   "metadata": {},
   "outputs": [],
   "source": [
    "import numpy as np\n",
    "import matplotlib.pyplot as plt\n",
    "import mdtraj as md"
   ]
  },
  {
   "cell_type": "code",
   "execution_count": 3,
   "metadata": {},
   "outputs": [],
   "source": [
    "trj=md.load('step_nowater2.xtc',top='step5_1.gro')"
   ]
  },
  {
   "cell_type": "code",
   "execution_count": 4,
   "metadata": {},
   "outputs": [],
   "source": [
    "oxygen=trj.top.select('name O')\n",
    "oxygenrmsd=md.rmsd(trj,trj,atom_indices=oxygen)\n",
    "sodium=trj.top.select('name SOD')\n",
    "sodiumrmsd=md.rmsd(trj,trj,atom_indices=sodium)\n",
    "chloride=trj.top.select('name CLA')\n",
    "chloridermsd=md.rmsd(trj,trj,atom_indices=chloride)"
   ]
  },
  {
   "cell_type": "code",
   "execution_count": 5,
   "metadata": {},
   "outputs": [
    {
     "ename": "NameError",
     "evalue": "name 'HostAxes' is not defined",
     "output_type": "error",
     "traceback": [
      "\u001b[0;31m---------------------------------------------------------------------------\u001b[0m",
      "\u001b[0;31mNameError\u001b[0m                                 Traceback (most recent call last)",
      "\u001b[0;32m<ipython-input-5-10f8eb635adc>\u001b[0m in \u001b[0;36m<module>\u001b[0;34m\u001b[0m\n\u001b[1;32m      3\u001b[0m     \u001b[0mtime\u001b[0m\u001b[0;34m[\u001b[0m\u001b[0mi\u001b[0m\u001b[0;34m]\u001b[0m\u001b[0;34m=\u001b[0m\u001b[0mi\u001b[0m\u001b[0;34m*\u001b[0m\u001b[0;36m0.1\u001b[0m\u001b[0;34m\u001b[0m\u001b[0;34m\u001b[0m\u001b[0m\n\u001b[1;32m      4\u001b[0m \u001b[0mfig\u001b[0m\u001b[0;34m=\u001b[0m\u001b[0mplt\u001b[0m\u001b[0;34m.\u001b[0m\u001b[0mfigure\u001b[0m\u001b[0;34m(\u001b[0m\u001b[0;36m1\u001b[0m\u001b[0;34m)\u001b[0m\u001b[0;34m\u001b[0m\u001b[0;34m\u001b[0m\u001b[0m\n\u001b[0;32m----> 5\u001b[0;31m \u001b[0max1\u001b[0m\u001b[0;34m=\u001b[0m\u001b[0mHostAxes\u001b[0m\u001b[0;34m(\u001b[0m\u001b[0mfig\u001b[0m\u001b[0;34m,\u001b[0m\u001b[0;34m[\u001b[0m\u001b[0;36m0\u001b[0m\u001b[0;34m,\u001b[0m\u001b[0;36m0\u001b[0m\u001b[0;34m,\u001b[0m\u001b[0;36m1\u001b[0m\u001b[0;34m,\u001b[0m\u001b[0;36m1\u001b[0m\u001b[0;34m]\u001b[0m\u001b[0;34m)\u001b[0m\u001b[0;34m\u001b[0m\u001b[0;34m\u001b[0m\u001b[0m\n\u001b[0m\u001b[1;32m      6\u001b[0m \u001b[0max2\u001b[0m\u001b[0;34m=\u001b[0m\u001b[0mParasiteAxes\u001b[0m\u001b[0;34m(\u001b[0m\u001b[0max1\u001b[0m\u001b[0;34m,\u001b[0m\u001b[0msharex\u001b[0m\u001b[0;34m=\u001b[0m\u001b[0max1\u001b[0m\u001b[0;34m)\u001b[0m\u001b[0;34m\u001b[0m\u001b[0;34m\u001b[0m\u001b[0m\n\u001b[1;32m      7\u001b[0m \u001b[0max3\u001b[0m\u001b[0;34m=\u001b[0m\u001b[0mParasiteAxes\u001b[0m\u001b[0;34m(\u001b[0m\u001b[0max1\u001b[0m\u001b[0;34m,\u001b[0m\u001b[0msharex\u001b[0m\u001b[0;34m=\u001b[0m\u001b[0max1\u001b[0m\u001b[0;34m)\u001b[0m\u001b[0;34m\u001b[0m\u001b[0;34m\u001b[0m\u001b[0m\n",
      "\u001b[0;31mNameError\u001b[0m: name 'HostAxes' is not defined"
     ]
    },
    {
     "data": {
      "text/plain": [
       "<Figure size 432x288 with 0 Axes>"
      ]
     },
     "metadata": {},
     "output_type": "display_data"
    }
   ],
   "source": [
    "time=np.zeros((901,1))\n",
    "for i in range (901):\n",
    "    time[i]=i*0.1\n",
    "fig=plt.figure(1)\n",
    "ax1=HostAxes(fig,[0,0,1,1])\n",
    "ax2=ParasiteAxes(ax1,sharex=ax1)\n",
    "ax3=ParasiteAxes(ax1,sharex=ax1)\n",
    "ax1.parasites.append(ax2)\n",
    "ax1.parasites.append(ax3)\n",
    "ax1.set_ylabel('Oxygen')\n",
    "ax1.set_xlabel(\"Time(ns)\")\n",
    "ax2.set_ylabel('Na')\n",
    "ax3.set_ylabel(\"Cl\")\n",
    "ax2_axisline = ax2.get_grid_helper().new_fixed_axis\n",
    "ax3_axisline = ax3.get_grid_helper().new_fixed_axis\n",
    "ax2.axis['right2'] = ax2_axisline(loc='right', axes=ax2)\n",
    "ax3.axis['right3'] = ax3_axisline(loc='right', axes=ax3,offset=(40,0))\n",
    "fig.add_axes(ax1)\n",
    "curve1,=ax1.plot(time,oxygenrmsd)\n",
    "curve2,=ax2.plot(time,sodiumrmsd,color='green')\n",
    "curve3,=ax3.plot(time,chloridermsd,color='orange')\n",
    "ax1.axis['left'].line.set_color('blue')\n",
    "ax2.axis['right2'].line.set_color('green')\n",
    "ax3.axis['right3'].line.set_color('orange')"
   ]
  },
  {
   "cell_type": "code",
   "execution_count": null,
   "metadata": {},
   "outputs": [],
   "source": []
  }
 ],
 "metadata": {
  "kernelspec": {
   "display_name": "Python 3",
   "language": "python",
   "name": "python3"
  },
  "language_info": {
   "codemirror_mode": {
    "name": "ipython",
    "version": 3
   },
   "file_extension": ".py",
   "mimetype": "text/x-python",
   "name": "python",
   "nbconvert_exporter": "python",
   "pygments_lexer": "ipython3",
   "version": "3.8.6"
  }
 },
 "nbformat": 4,
 "nbformat_minor": 4
}
