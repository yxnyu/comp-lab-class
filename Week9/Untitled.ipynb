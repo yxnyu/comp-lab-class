{
 "cells": [
  {
   "cell_type": "code",
   "execution_count": 2,
   "metadata": {},
   "outputs": [],
   "source": [
    "import numpy as np\n",
    "import matplotlib.pyplot as plt\n",
    "#why does the kernel do not have the pandas#\n",
    "\n",
    "import MDAnalysis\n",
    "import MDAnalysis.analysis.msd as msd\n",
    "import MDAnalysis.analysis.rdf as rdf\n",
    "\n"
   ]
  },
  {
   "cell_type": "code",
   "execution_count": null,
   "metadata": {},
   "outputs": [],
   "source": [
    "tjprod_T1_5 = \"../Data/prod/kalj_T1.5_n360_v300_prod_10000_1.unwrap.dcd\"\n",
    "tjprod_T1 = \"../Data/prod/kalj_T1_n360_v300_prod_50000_1.unwrap.dcd\"\n",
    "tjprod_T0_9 = \"../Data/prod/kalj_T0.9_n360_v300_prod_150000_1.unwrap.dcd\"\n",
    "tjprod_T0_8 = \"../Data/prod/kalj_T0.8_n360_v300_prod_150000_1.unwrap.dcd\"\n",
    "tjprod_T0_7 = \"../Data/prod/kalj_T0.7_n360_v300_prod_180000_1.unwrap.dcd\"\n",
    "tjprod_T0_65 = \"../Data/prod/kalj_T0.65_n360_v300_prod_350000_1.unwrap.dcd\"\n",
    "tjprod_T0_6 = \"../Data/prod/kalj_T0.6_n360_v300_prod_1000000_1.unwrap.dcd\"\n",
    "tjprod_T0_55 = \"../Data/prod/kalj_T0.55_n360_v300_prod_3000000_1.unwrap.dcd\"\n",
    "tjprod_T0_5 = \"../Data/prod/kalj_T0.5_n360_v300_prod_10000000_1.unwrap.dcd\"\n",
    "tjprod_T0_475 = \"../Data/prod/kalj_T0.475_n360_v300_prod_30000000_1.unwrap.dcd\"\n",
    "tjprod_T0_45 = \"../Data/prod/kalj_T0.45_n360_v300_prod_100000000_1.unwrap.dcd\""
   ]
  }
 ],
 "metadata": {
  "kernelspec": {
   "display_name": "lab_env",
   "language": "python",
   "name": "lab_env"
  },
  "language_info": {
   "codemirror_mode": {
    "name": "ipython",
    "version": 3
   },
   "file_extension": ".py",
   "mimetype": "text/x-python",
   "name": "python",
   "nbconvert_exporter": "python",
   "pygments_lexer": "ipython3",
   "version": "3.9.12"
  }
 },
 "nbformat": 4,
 "nbformat_minor": 4
}
