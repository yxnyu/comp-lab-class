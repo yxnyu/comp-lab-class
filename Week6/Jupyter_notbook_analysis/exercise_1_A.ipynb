{
 "cells": [
  {
   "cell_type": "code",
   "execution_count": 13,
   "metadata": {},
   "outputs": [],
   "source": [
    "import plumed\n",
    "import matplotlib.pyplot as plt\n",
    "import mdtraj as md\n",
    "import numpy as np"
   ]
  },
  {
   "cell_type": "code",
   "execution_count": 19,
   "metadata": {},
   "outputs": [
    {
     "name": "stderr",
     "output_type": "stream",
     "text": [
      "<ipython-input-19-ee0a61664abe>:3: UserWarning: cannot load PLUMED instance, conversions will not be available\n",
      "  data=plumed.read_as_pandas(\"COLVAR\")\n"
     ]
    },
    {
     "data": {
      "text/html": [
       "<div>\n",
       "<style scoped>\n",
       "    .dataframe tbody tr th:only-of-type {\n",
       "        vertical-align: middle;\n",
       "    }\n",
       "\n",
       "    .dataframe tbody tr th {\n",
       "        vertical-align: top;\n",
       "    }\n",
       "\n",
       "    .dataframe thead th {\n",
       "        text-align: right;\n",
       "    }\n",
       "</style>\n",
       "<table border=\"1\" class=\"dataframe\">\n",
       "  <thead>\n",
       "    <tr style=\"text-align: right;\">\n",
       "      <th></th>\n",
       "      <th>time</th>\n",
       "      <th>phi</th>\n",
       "      <th>psi</th>\n",
       "    </tr>\n",
       "  </thead>\n",
       "  <tbody>\n",
       "    <tr>\n",
       "      <th>0</th>\n",
       "      <td>0.0</td>\n",
       "      <td>-1.256673</td>\n",
       "      <td>2.876746</td>\n",
       "    </tr>\n",
       "    <tr>\n",
       "      <th>1</th>\n",
       "      <td>0.2</td>\n",
       "      <td>-2.718336</td>\n",
       "      <td>2.425417</td>\n",
       "    </tr>\n",
       "    <tr>\n",
       "      <th>2</th>\n",
       "      <td>0.4</td>\n",
       "      <td>-2.335214</td>\n",
       "      <td>2.670349</td>\n",
       "    </tr>\n",
       "    <tr>\n",
       "      <th>3</th>\n",
       "      <td>0.6</td>\n",
       "      <td>-2.015246</td>\n",
       "      <td>2.711391</td>\n",
       "    </tr>\n",
       "    <tr>\n",
       "      <th>4</th>\n",
       "      <td>0.8</td>\n",
       "      <td>-1.854406</td>\n",
       "      <td>2.394528</td>\n",
       "    </tr>\n",
       "    <tr>\n",
       "      <th>...</th>\n",
       "      <td>...</td>\n",
       "      <td>...</td>\n",
       "      <td>...</td>\n",
       "    </tr>\n",
       "    <tr>\n",
       "      <th>49996</th>\n",
       "      <td>9999.2</td>\n",
       "      <td>-1.653082</td>\n",
       "      <td>2.742215</td>\n",
       "    </tr>\n",
       "    <tr>\n",
       "      <th>49997</th>\n",
       "      <td>9999.4</td>\n",
       "      <td>-2.706803</td>\n",
       "      <td>2.756450</td>\n",
       "    </tr>\n",
       "    <tr>\n",
       "      <th>49998</th>\n",
       "      <td>9999.6</td>\n",
       "      <td>-2.237114</td>\n",
       "      <td>2.927773</td>\n",
       "    </tr>\n",
       "    <tr>\n",
       "      <th>49999</th>\n",
       "      <td>9999.8</td>\n",
       "      <td>-2.035355</td>\n",
       "      <td>2.416007</td>\n",
       "    </tr>\n",
       "    <tr>\n",
       "      <th>50000</th>\n",
       "      <td>10000.0</td>\n",
       "      <td>-2.094113</td>\n",
       "      <td>2.084753</td>\n",
       "    </tr>\n",
       "  </tbody>\n",
       "</table>\n",
       "<p>50001 rows × 3 columns</p>\n",
       "</div>"
      ],
      "text/plain": [
       "          time       phi       psi\n",
       "0          0.0 -1.256673  2.876746\n",
       "1          0.2 -2.718336  2.425417\n",
       "2          0.4 -2.335214  2.670349\n",
       "3          0.6 -2.015246  2.711391\n",
       "4          0.8 -1.854406  2.394528\n",
       "...        ...       ...       ...\n",
       "49996   9999.2 -1.653082  2.742215\n",
       "49997   9999.4 -2.706803  2.756450\n",
       "49998   9999.6 -2.237114  2.927773\n",
       "49999   9999.8 -2.035355  2.416007\n",
       "50000  10000.0 -2.094113  2.084753\n",
       "\n",
       "[50001 rows x 3 columns]"
      ]
     },
     "execution_count": 19,
     "metadata": {},
     "output_type": "execute_result"
    }
   ],
   "source": [
    "# import COLVAR file as pandas dataset\n",
    "# set the right path to the COLVAR file\n",
    "data=plumed.read_as_pandas(\"COLVAR\")\n",
    "# print pandas dataset\n",
    "data"
   ]
  },
  {
   "cell_type": "code",
   "execution_count": 26,
   "metadata": {},
   "outputs": [
    {
     "data": {
      "image/png": "[encoded data removed]",
      "text/plain": [
       "<Figure size 432x288 with 1 Axes>"
      ]
     },
     "metadata": {
      "needs_background": "light"
     },
     "output_type": "display_data"
    }
   ],
   "source": [
    "#load data\n",
    "time, phi, psi = np.loadtxt('COLVAR', unpack=True)\n",
    "traj = md.load_xtc('traj_comp.xtc', top='dialaA.pdb')\n",
    "\n",
    "phi_angles = md.compute_phi(traj) \n",
    "psi_angles = md.compute_psi(traj)\n",
    "\n",
    "plt.scatter(phi, psi, label = 'plumed',marker='o',c='b') #from plumed\n",
    "\n",
    "plt.scatter(phi_angles[1], psi_angles[1], label = 'mdtraj',marker='o',c='r') #from mdtraj\n",
    "\n",
    "plt.xlabel('Phi Angle (rad)')\n",
    "plt.ylabel('Psi Angle (rad)')\n",
    "plt.title('ramachandran recover show')\n",
    "plt.legend()\n",
    "plt.savefig('diala-master-A-ramachandran,step 100')\n",
    "\n",
    "plt.show()"
   ]
  },
  {
   "cell_type": "code",
   "execution_count": 29,
   "metadata": {},
   "outputs": [
    {
     "data": {
      "text/plain": [
       "0.5520570482078025"
      ]
     },
     "execution_count": 29,
     "metadata": {},
     "output_type": "execute_result"
    }
   ],
   "source": [
    "np.std(phi) "
   ]
  },
  {
   "cell_type": "code",
   "execution_count": 31,
   "metadata": {},
   "outputs": [
    {
     "data": {
      "text/plain": [
       "1.0282962257257098"
      ]
     },
     "execution_count": 31,
     "metadata": {},
     "output_type": "execute_result"
    }
   ],
   "source": [
    "np.std(psi) "
   ]
  },
  {
   "cell_type": "code",
   "execution_count": 4,
   "metadata": {},
   "outputs": [
    {
     "data": {
      "text/plain": [
       "<matplotlib.legend.Legend at 0x14ffc7017f70>"
      ]
     },
     "execution_count": 4,
     "metadata": {},
     "output_type": "execute_result"
    },
    {
     "name": "stderr",
     "output_type": "stream",
     "text": [
      "/share/apps/python/3.8.6/intel/lib/python3.8/site-packages/IPython/core/pylabtools.py:132: UserWarning: Creating legend with loc=\"best\" can be slow with large amounts of data.\n",
      "  fig.canvas.print_figure(bytes_io, **kw)\n"
     ]
    },
    {
     "data": {
      "image/png": "[encoded data removed]",
      "text/plain": [
       "<Figure size 432x288 with 1 Axes>"
      ]
     },
     "metadata": {
      "needs_background": "light"
     },
     "output_type": "display_data"
    }
   ],
   "source": [
    "data.time,data.phi=data.time,data.phi\n",
    "plt.plot(data.time,data.phi,label=\"phi\")\n",
    "# x-y axis labels\n",
    "plt.xlabel(\"time\")\n",
    "plt.ylabel(\"phi\")\n",
    "plt.legend()"
   ]
  },
  {
   "cell_type": "code",
   "execution_count": 15,
   "metadata": {},
   "outputs": [
    {
     "data": {
      "text/plain": [
       "<matplotlib.legend.Legend at 0x14ffbfaeefd0>"
      ]
     },
     "execution_count": 15,
     "metadata": {},
     "output_type": "execute_result"
    },
    {
     "data": {
      "image/png": "[encoded data removed]",
      "text/plain": [
       "<Figure size 432x288 with 1 Axes>"
      ]
     },
     "metadata": {
      "needs_background": "light"
     },
     "output_type": "display_data"
    }
   ],
   "source": [
    "data.time,data.psi=data.time,data.psi\n",
    "plt.scatter (data.time,data.psi, label=\"psi\")\n",
    "# x-y axis labels\n",
    "plt.xlabel(\"time\")\n",
    "\n",
    "plt.ylabel(\"psi\")\n",
    "plt.legend()"
   ]
  },
  {
   "cell_type": "code",
   "execution_count": 16,
   "metadata": {},
   "outputs": [],
   "source": [
    "traj = md.load_xtc('traj_comp.xtc', top='confout.gro')\n",
    "a,phi = md.compute_phi(traj)\n",
    "b,psi = md.compute_psi(traj)"
   ]
  },
  {
   "cell_type": "code",
   "execution_count": 18,
   "metadata": {},
   "outputs": [
    {
     "name": "stdout",
     "output_type": "stream",
     "text": [
      "[[2.877952 ]\n",
      " [2.4328592]\n",
      " [2.672416 ]\n",
      " ...\n",
      " [2.9279666]\n",
      " [2.4060454]\n",
      " [2.0807233]]\n",
      "50001\n"
     ]
    }
   ],
   "source": [
    "print(psi)\n",
    "print(len(psi))"
   ]
  },
  {
   "cell_type": "code",
   "execution_count": null,
   "metadata": {},
   "outputs": [],
   "source": [
    "phi_standard=numpy.std(phi)\n",
    "\n",
    "psi_standard=numpy.std(psi)"
   ]
  },
  {
   "cell_type": "code",
   "execution_count": null,
   "metadata": {},
   "outputs": [],
   "source": []
  },
  {
   "cell_type": "code",
   "execution_count": null,
   "metadata": {},
   "outputs": [],
   "source": [
    "fig = plt.figure(figsize=(12,4)) \n",
    "x_a = traj.time\n",
    "y_a1 =phi1\n",
    "y_a2 =data.phi\n",
    "fig = plt.figure(num=3,figsize=(8,6),facecolor='w')\n",
    "ax1 = fig.add_subplot(111)\n",
    "ax1.plot(x_a, y_a1,'r',linewidth=3,linestyle='solid')\n",
    "ax1.set_ylabel('phi1')\n",
    "ax1.set_title(\"phi/psi VS time\")\n",
    "ax2 = ax1.twinx()  # this is the important function\n",
    "ax2.scatter (x_a, y_a2, 'b',linewidth=3,linestyle='dashed')#supported values are '-', '--', '-.', ':', 'None', ' ', '', 'solid', 'dashed', 'dashdot', 'dotted'\n",
    "#ax2.set_xlim([0, np.e])\n",
    "ax2.set_ylabel('psi')\n",
    "ax1.set_xlabel('time')\n",
    "plt.show()"
   ]
  },
  {
   "cell_type": "code",
   "execution_count": null,
   "metadata": {},
   "outputs": [],
   "source": []
  }
 ],
 "metadata": {
  "kernelspec": {
   "display_name": "Python 3",
   "language": "python",
   "name": "python3"
  },
  "language_info": {
   "codemirror_mode": {
    "name": "ipython",
    "version": 3
   },
   "file_extension": ".py",
   "mimetype": "text/x-python",
   "name": "python",
   "nbconvert_exporter": "python",
   "pygments_lexer": "ipython3",
   "version": "3.8.6"
  }
 },
 "nbformat": 4,
 "nbformat_minor": 4
}
