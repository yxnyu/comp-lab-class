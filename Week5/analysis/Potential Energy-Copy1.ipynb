{
 "cells": [
  {
   "cell_type": "code",
   "execution_count": 2,
   "metadata": {},
   "outputs": [],
   "source": [
    "import numpy as np\n",
    "import pandas as pd\n",
    "import matplotlib.pyplot as plt"
   ]
  },
  {
   "cell_type": "code",
   "execution_count": 32,
   "metadata": {},
   "outputs": [
    {
     "data": {
      "text/plain": [
       "<matplotlib.legend.Legend at 0x14bd54d82df0>"
      ]
     },
     "execution_count": 32,
     "metadata": {},
     "output_type": "execute_result"
    },
    {
     "data": {
      "image/png": "[encoded data removed]",
      "text/plain": [
       "<Figure size 432x288 with 1 Axes>"
      ]
     },
     "metadata": {
      "needs_background": "light"
     },
     "output_type": "display_data"
    }
   ],
   "source": [
    "T300=pd.read_csv('potential_300.xvg',names=['Time','pontential'],skiprows=24,sep='\\s+')\n",
    "T400=pd.read_csv('potential_400.xvg',names=['Time','pontential'],skiprows=24,sep='\\s+')\n",
    "T450=pd.read_csv('potential_450.xvg',names=['Time','pontential'],skiprows=24,sep='\\s+')\n",
    "T600=pd.read_csv('potential_600.xvg',names=['Time','pontential'],skiprows=24,sep='\\s+')\n",
    "time=T300['Time']/1000\n",
    "pontential1=T300['pontential']\n",
    "pontential2=T400['pontential']\n",
    "pontential3=T450['pontential']\n",
    "pontential4=T600['pontential']\n",
    "\n",
    "weights1 = np.ones_like(pontential1) / len(pontential1)\n",
    "plt.hist(pontential1,weights=weights1,label='T=300',color='gray',bins=5)\n",
    "weights2 = np.ones_like(pontential2) / len(pontential2)\n",
    "plt.hist(pontential2,weights=weights2,label='T=400',color='red',bins=5)\n",
    "weights3 = np.ones_like(pontential3) / len(pontential3)\n",
    "plt.hist(pontential3,weights=weights3,label='T=450',color='yellow',bins=5)\n",
    "weights4 = np.ones_like(pontential4) / len(pontential4)\n",
    "plt.hist(pontential4,weights=weights4,label='T=600',color='green',bins=5)\n",
    "plt.title(\"Potential Energy Distribution\")\n",
    "plt.xlabel(\"Potential Energy\")\n",
    "plt.ylabel(\"Probability\")\n",
    "plt.legend()"
   ]
  },
  {
   "cell_type": "code",
   "execution_count": null,
   "metadata": {},
   "outputs": [],
   "source": []
  },
  {
   "cell_type": "code",
   "execution_count": null,
   "metadata": {},
   "outputs": [],
   "source": []
  },
  {
   "cell_type": "code",
   "execution_count": null,
   "metadata": {},
   "outputs": [],
   "source": []
  }
 ],
 "metadata": {
  "kernelspec": {
   "display_name": "Python 3",
   "language": "python",
   "name": "python3"
  },
  "language_info": {
   "codemirror_mode": {
    "name": "ipython",
    "version": 3
   },
   "file_extension": ".py",
   "mimetype": "text/x-python",
   "name": "python",
   "nbconvert_exporter": "python",
   "pygments_lexer": "ipython3",
   "version": "3.8.6"
  }
 },
 "nbformat": 4,
 "nbformat_minor": 4
}
