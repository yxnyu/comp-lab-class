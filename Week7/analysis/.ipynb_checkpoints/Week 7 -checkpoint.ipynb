{
 "cells": [
  {
   "cell_type": "code",
   "execution_count": 2,
   "metadata": {},
   "outputs": [],
   "source": [
    "import mdtraj\n",
    "import numpy as np\n",
    "import pandas as pd\n",
    "import pickle\n",
    "import matplotlib.pyplot as plt\n",
    "\n",
    "target =  mdtraj.load('6D1R_0e9b1_unrelaxed_rank_1_model_2.pdb') \n",
    "target_top = target.topology\n",
    "pdb_document = mdtraj.load('6d1r.pdb')\n"
   ]
  },
  {
   "cell_type": "markdown",
   "metadata": {},
   "source": [
    "### COLAB AND THE GREENE RMSD\n",
    "\n",
    "in the test result, I think alphafold get everything right with the RMSD is low"
   ]
  },
  {
   "cell_type": "code",
   "execution_count": 3,
   "metadata": {},
   "outputs": [
    {
     "name": "stdout",
     "output_type": "stream",
     "text": [
      "RMSD_alpha_carbons_colab: 1.4084014892578125\n",
      "RMSD_backbone_colab: 1.4098937511444092\n",
      "RMSD_sidechains_colab: 1.4739667177200317\n"
     ]
    },
    {
     "ename": "NameError",
     "evalue": "name 'sidechain_rmsd' is not defined",
     "output_type": "error",
     "traceback": [
      "\u001b[0;31m---------------------------------------------------------------------------\u001b[0m",
      "\u001b[0;31mNameError\u001b[0m                                 Traceback (most recent call last)",
      "\u001b[0;32m<ipython-input-3-fc53c030a7a5>\u001b[0m in \u001b[0;36m<module>\u001b[0;34m\u001b[0m\n\u001b[1;32m     19\u001b[0m     \u001b[0mbackbone_RMSD_greene_list\u001b[0m\u001b[0;34m.\u001b[0m\u001b[0mappend\u001b[0m\u001b[0;34m(\u001b[0m\u001b[0mbackbone_RMSD_greene\u001b[0m\u001b[0;34m[\u001b[0m\u001b[0;36m0\u001b[0m\u001b[0;34m]\u001b[0m\u001b[0;34m)\u001b[0m\u001b[0;34m\u001b[0m\u001b[0;34m\u001b[0m\u001b[0m\n\u001b[1;32m     20\u001b[0m     \u001b[0msidechain_RMSD_greene\u001b[0m \u001b[0;34m=\u001b[0m \u001b[0mmdtraj\u001b[0m\u001b[0;34m.\u001b[0m\u001b[0mrmsd\u001b[0m\u001b[0;34m(\u001b[0m\u001b[0maf2_greene\u001b[0m\u001b[0;34m,\u001b[0m \u001b[0mpdb_document\u001b[0m\u001b[0;34m,\u001b[0m\u001b[0matom_indices\u001b[0m\u001b[0;34m=\u001b[0m\u001b[0mtarget_top\u001b[0m\u001b[0;34m.\u001b[0m\u001b[0mselect\u001b[0m\u001b[0;34m(\u001b[0m\u001b[0;34m\"sidechain\"\u001b[0m\u001b[0;34m)\u001b[0m\u001b[0;34m,\u001b[0m \u001b[0mparallel\u001b[0m\u001b[0;34m=\u001b[0m\u001b[0;32mTrue\u001b[0m\u001b[0;34m,\u001b[0m \u001b[0mprecentered\u001b[0m\u001b[0;34m=\u001b[0m\u001b[0;32mFalse\u001b[0m\u001b[0;34m)\u001b[0m\u001b[0;34m\u001b[0m\u001b[0;34m\u001b[0m\u001b[0m\n\u001b[0;32m---> 21\u001b[0;31m     \u001b[0msidechain_RMSD_greene_list\u001b[0m\u001b[0;34m.\u001b[0m\u001b[0mappend\u001b[0m\u001b[0;34m(\u001b[0m\u001b[0msidechain_rmsd\u001b[0m\u001b[0;34m[\u001b[0m\u001b[0;36m0\u001b[0m\u001b[0;34m]\u001b[0m\u001b[0;34m)\u001b[0m\u001b[0;34m\u001b[0m\u001b[0;34m\u001b[0m\u001b[0m\n\u001b[0m\u001b[1;32m     22\u001b[0m     \u001b[0;31m#print(f'greene {i+1} - RMSD_alpha carbons:', float(alpha_RMSD_greene))\u001b[0m\u001b[0;34m\u001b[0m\u001b[0;34m\u001b[0m\u001b[0;34m\u001b[0m\u001b[0m\n\u001b[1;32m     23\u001b[0m     \u001b[0;31m#print(f'greene {i+1} - RMSD_backbone:', float(backbone_RMSD_greene))\u001b[0m\u001b[0;34m\u001b[0m\u001b[0;34m\u001b[0m\u001b[0;34m\u001b[0m\u001b[0m\n",
      "\u001b[0;31mNameError\u001b[0m: name 'sidechain_rmsd' is not defined"
     ]
    }
   ],
   "source": [
    "#RMSD of colab\n",
    "alpha_RMSD_colab = mdtraj.rmsd(target, pdb_document, atom_indices=target_top.select(\"name == CA\"))\n",
    "backbone_RMSD_colab = mdtraj.rmsd(target, pdb_document, atom_indices=target_top.select(\"backbone\"))\n",
    "sidechain_RMSD_colab = mdtraj.rmsd(target, pdb_document, atom_indices=target_top.select(\"sidechain\"))\n",
    "print('RMSD_alpha_carbons_colab:', float(alpha_RMSD_colab))\n",
    "print('RMSD_backbone_colab:', float(backbone_RMSD_colab))\n",
    "print('RMSD_sidechains_colab:', float(sidechain_RMSD_colab))\n",
    "\n",
    "#RMSD of greene_af2\n",
    "alpha_RMSD_greene_list= []\n",
    "backbone_RMSD_greene_list= []\n",
    "sidechain_RMSD_greene_list = []\n",
    "for i in range(5):\n",
    "    af2_greene = mdtraj.load(f'unrelaxed_model_{i+1}_pred_0.pdb')\n",
    "    af2_greene_top = af2_greene.topology\n",
    "    alpha_RMSD_greene = mdtraj.rmsd(af2_greene, pdb_document, atom_indices=target_top.select(\"name == CA\"), parallel=True, precentered=False)\n",
    "    alpha_RMSD_greene_list.append(alpha_RMSD_greene[0])\n",
    "    backbone_RMSD_greene = mdtraj.rmsd(af2_greene, pdb_document, atom_indices=target_top.select(\"backbone\"), parallel=True, precentered=False)\n",
    "    backbone_RMSD_greene_list.append(backbone_RMSD_greene[0])\n",
    "    sidechain_RMSD_greene = mdtraj.rmsd(af2_greene, pdb_document,atom_indices=target_top.select(\"sidechain\"), parallel=True, precentered=False)\n",
    "    sidechain_RMSD_greene_list.append(sidechain_rmsd[0])\n",
    "    #print(f'greene {i+1} - RMSD_alpha carbons:', float(alpha_RMSD_greene))\n",
    "    #print(f'greene {i+1} - RMSD_backbone:', float(backbone_RMSD_greene))\n",
    "    #print(f'greene {i+1} - RMSD_sidechains:',float(sidechain_RMSD_greene))\n",
    "    \n",
    "\n",
    "plt.bar([1, 2, 3, 4, 5], alpha_RMSD_greene_list,color='red')\n",
    "plt.xlabel('Model in greene')\n",
    "plt.ylabel('RMSD (nm)')\n",
    "plt.title('RMSD——Alpha Carbons—greene')\n",
    "plt.legend\n",
    "plt.show()\n",
    "\n",
    "plt.bar([1, 2, 3, 4, 5], backbone_RMSD_greene_list)\n",
    "plt.xlabel('Model in greene')\n",
    "plt.ylabel('RMSD (nm)')\n",
    "plt.title('RMSD——Backbone—greene')\n",
    "plt.show()\n",
    "\n",
    "plt.bar([1, 2, 3, 4, 5], sidechain_RMSD_greene_list,color='green')\n",
    "plt.xlabel('Model in greene')\n",
    "plt.ylabel('RMSD (nm)')\n",
    "plt.title('RMSD——Sidechains—greene')\n",
    "plt.show()"
   ]
  },
  {
   "cell_type": "markdown",
   "metadata": {},
   "source": [
    "### PLDDT(BONUS)"
   ]
  },
  {
   "cell_type": "code",
   "execution_count": null,
   "metadata": {},
   "outputs": [],
   "source": [
    "with open('result_model_3_pred_0.pkl', 'rb') as f:\n",
    "    data = pickle.load(f)"
   ]
  },
  {
   "cell_type": "code",
   "execution_count": null,
   "metadata": {},
   "outputs": [],
   "source": [
    "#comparing plddt to rmsd values\n",
    "avg_plddt_dict,rmsd_plddt_dict = {},{}\n",
    "avg_plddt,rmsd_plddt = [],[]\n",
    "for i in range(5):\n",
    "    with open(f'result_model_{i+1}_pred_0.pkl', 'rb') as f:\n",
    "        data = pickle.load(f)\n",
    "    plddt_array = data['plddt']\n",
    "    avg = np.mean(data['plddt'])\n",
    "    avg_plddt_dict[f'model {i}'] = avg\n",
    "    avg_plddt.append(avg)\n",
    "    alpha = mdtraj.load(f'unrelaxed_model_{i+1}_pred_0.pdb')\n",
    "    alpha_top = alpha.topology\n",
    "    all_atoms = alpha_top.select(\"all\")\n",
    "    rmsd = mdtraj.rmsd(alpha, pdb_document,atom_indices=all_atoms,)\n",
    "    rmsd_plddt_dict[f'model {i+1}'] = rmsd[0]\n",
    "    rmsd_plddt.append(rmsd[0])\n",
    "\n",
    "plt.scatter(rmsd_plddt, avg_plddt)\n",
    "plt.xlabel('RMSD_structure')\n",
    "plt.ylabel('PLDDT_structure')\n",
    "plt.title('Correlation between RMSD and PLDDT score(seems no good correlation)')\n",
    "plt.show()"
   ]
  },
  {
   "cell_type": "markdown",
   "metadata": {},
   "source": [
    "### COMPARE WITH ROSSETA(USE THE COLAB)\n",
    "\n",
    "compared with rosseta, seens in this protein that rosetta performed well in alpha_carbons/backbone/sidechains/"
   ]
  },
  {
   "cell_type": "code",
   "execution_count": 5,
   "metadata": {},
   "outputs": [],
   "source": [
    "ROSETTA_document = mdtraj.load('rosetta_pred.pdb')\n",
    "ROSETTA_top = ROSETTA_document.topology"
   ]
  },
  {
   "cell_type": "markdown",
   "metadata": {},
   "source": []
  },
  {
   "cell_type": "code",
   "execution_count": 6,
   "metadata": {},
   "outputs": [
    {
     "name": "stdout",
     "output_type": "stream",
     "text": [
      "RMSD_alpha_carbons_ROSETTA: 1.393206000328064\n",
      "RMSD_backbone_ROSETTA: 1.3828225135803223\n",
      "RMSD_sidechains_ROSETTA: 0.0\n"
     ]
    },
    {
     "name": "stderr",
     "output_type": "stream",
     "text": [
      "/home/yx2892/.local/lib/python3.8/site-packages/mdtraj/utils/validation.py:115: TypeCastPerformanceWarning: Casting atom_indices dtype=float64 to <class 'int'> \n",
      "  warnings.warn(\"Casting %s dtype=%s to %s \" % (name, val.dtype, dtype),\n"
     ]
    }
   ],
   "source": [
    "alpha_RMSD_ROSETTA = mdtraj.rmsd(ROSETTA_document, pdb_document, atom_indices=ROSETTA_top.select(\"name == CA\"))\n",
    "backbone_RMSD_ROSETTA = mdtraj.rmsd(ROSETTA_document, pdb_document, atom_indices=ROSETTA_top.select(\"backbone\"))\n",
    "sidechain_RMSD_ROSETTA = mdtraj.rmsd(ROSETTA_document, pdb_document, atom_indices=ROSETTA_top.select(\"sidechain\"))\n",
    "\n",
    "print('RMSD_alpha_carbons_ROSETTA:', float(alpha_RMSD_ROSETTA))\n",
    "print('RMSD_backbone_ROSETTA:', float(backbone_RMSD_ROSETTA))\n",
    "print('RMSD_sidechains_ROSETTA:', float(sidechain_RMSD_ROSETTA))"
   ]
  },
  {
   "cell_type": "code",
   "execution_count": null,
   "metadata": {},
   "outputs": [],
   "source": []
  },
  {
   "cell_type": "code",
   "execution_count": null,
   "metadata": {},
   "outputs": [],
   "source": []
  },
  {
   "cell_type": "code",
   "execution_count": null,
   "metadata": {},
   "outputs": [],
   "source": []
  },
  {
   "cell_type": "code",
   "execution_count": null,
   "metadata": {},
   "outputs": [],
   "source": []
  },
  {
   "cell_type": "code",
   "execution_count": null,
   "metadata": {},
   "outputs": [],
   "source": []
  }
 ],
 "metadata": {
  "kernelspec": {
   "display_name": "Python 3",
   "language": "python",
   "name": "python3"
  },
  "language_info": {
   "codemirror_mode": {
    "name": "ipython",
    "version": 3
   },
   "file_extension": ".py",
   "mimetype": "text/x-python",
   "name": "python",
   "nbconvert_exporter": "python",
   "pygments_lexer": "ipython3",
   "version": "3.8.6"
  }
 },
 "nbformat": 4,
 "nbformat_minor": 4
}
