{
 "cells": [
  {
   "cell_type": "markdown",
   "metadata": {},
   "source": [
    "## Computing RMSD Values for Predicted Structures"
   ]
  },
  {
   "cell_type": "code",
   "execution_count": 12,
   "metadata": {},
   "outputs": [],
   "source": [
    "import mdtraj"
   ]
  },
  {
   "cell_type": "code",
   "execution_count": 9,
   "metadata": {},
   "outputs": [
    {
     "name": "stdout",
     "output_type": "stream",
     "text": [
      "/scratch/work/courses/CHEM-GA-2671-2022fa/ns3539/comp-lab-class/Week7/Inputs\n"
     ]
    }
   ],
   "source": [
    "cd /scratch/work/courses/CHEM-GA-2671-2022fa/ns3539/comp-lab-class/Week7/Inputs"
   ]
  },
  {
   "cell_type": "code",
   "execution_count": 13,
   "metadata": {},
   "outputs": [],
   "source": [
    "#using colabfold predictions \n",
    "\n",
    "#load file and obtain topology for highest ranked structure\n",
    "target =  mdtraj.load('LYSOZYME_1LYS_ce6c6_unrelaxed_rank_1_model_5.pdb') \n",
    "\n",
    "target_top = target.topology\n",
    "\n",
    "#select indices for alpha carbons, backbone, and sidechains\n",
    "target_alphas = target_top.select(\"name == CA\")\n",
    "\n",
    "target_backbone = target_top.select(\"backbone\")\n",
    "\n",
    "target_sidechains = target_top.select(\"sidechain\")\n",
    "\n",
    "#reference structure from protein data bank\n",
    "\n",
    "#load file and obtain topology\n",
    "reference = mdtraj.load('lysozyme_1LYS.pdb')\n",
    "ref_top = reference.topology\n",
    "\n",
    "#select indices for alpha carbons, backbone, and sidechains\n",
    "ref_alphas = ref_top.select(\"name == CA\")\n",
    "\n",
    "ref_backbone = ref_top.select(\"backbone\")\n",
    "\n",
    "ref_sidechains = ref_top.select(\"sidechain\")"
   ]
  },
  {
   "cell_type": "markdown",
   "metadata": {},
   "source": [
    "printing each of the index arrays demonstrates the indices match up for the alpha carbons, backbones, and sidechains of the target and the reference"
   ]
  },
  {
   "cell_type": "code",
   "execution_count": 53,
   "metadata": {},
   "outputs": [
    {
     "name": "stdout",
     "output_type": "stream",
     "text": [
      "RMSD of alpha carbons: 0.06221356615424156\n",
      "RMSD of backbone: 0.16149447858333588\n",
      "RMSD of sidechains: 0.24418962001800537\n"
     ]
    }
   ],
   "source": [
    "#compute rmsd values\n",
    "\n",
    "#alpha carbon rmsd in nm \n",
    "alpha_rmsd = mdtraj.rmsd(target, reference, frame=0, atom_indices=target_alphas, parallel=True, precentered=False)\n",
    "print('RMSD of alpha carbons:', float(alpha_rmsd))\n",
    "\n",
    "#backbone rmsd\n",
    "backbone_rmsd = mdtraj.rmsd(target, reference, frame=0, atom_indices=target_backbone, parallel=True, precentered=False)\n",
    "print('RMSD of backbone:', float(backbone_rmsd))\n",
    "\n",
    "#sidechain rmsd\n",
    "sidechain_rmsd = mdtraj.rmsd(target, reference, frame=0, atom_indices=target_sidechains, parallel=True, precentered=False)\n",
    "print('RMSD of sidechains:', float(sidechain_rmsd))"
   ]
  },
  {
   "cell_type": "code",
   "execution_count": 14,
   "metadata": {},
   "outputs": [
    {
     "name": "stdout",
     "output_type": "stream",
     "text": [
      "/scratch/work/courses/CHEM-GA-2671-2022fa/ns3539/comp-lab-class/Week7/Inputs/Alphafold\n"
     ]
    }
   ],
   "source": [
    "cd /scratch/work/courses/CHEM-GA-2671-2022fa/ns3539/comp-lab-class/Week7/Inputs/Alphafold/"
   ]
  },
  {
   "cell_type": "code",
   "execution_count": 61,
   "metadata": {},
   "outputs": [
    {
     "name": "stdout",
     "output_type": "stream",
     "text": [
      "Model 1 - RMSD of alpha carbons: 0.054407767951488495\n",
      "Model 1 - RMSD of backbone: 0.157305508852005\n",
      "Model 1 - RMSD of sidechains: 0.24220781028270721 \n",
      "\n",
      "Model 2 - RMSD of alpha carbons: 0.05544362589716911\n",
      "Model 2 - RMSD of backbone: 0.15875385701656342\n",
      "Model 2 - RMSD of sidechains: 0.23480182886123657 \n",
      "\n",
      "Model 3 - RMSD of alpha carbons: 0.059165291488170624\n",
      "Model 3 - RMSD of backbone: 0.15901219844818115\n",
      "Model 3 - RMSD of sidechains: 0.24489250779151917 \n",
      "\n",
      "Model 4 - RMSD of alpha carbons: 0.06265121698379517\n",
      "Model 4 - RMSD of backbone: 0.1613457202911377\n",
      "Model 4 - RMSD of sidechains: 0.24019546806812286 \n",
      "\n",
      "Model 5 - RMSD of alpha carbons: 0.06068127974867821\n",
      "Model 5 - RMSD of backbone: 0.16078317165374756\n",
      "Model 5 - RMSD of sidechains: 0.24013717472553253 \n",
      "\n"
     ]
    }
   ],
   "source": [
    "# alphafold results\n",
    "\n",
    "alpha_rmsd_vals = []\n",
    "\n",
    "backbone_rmsd_vals = []\n",
    "\n",
    "sidechain_rmsd_vals = []\n",
    "\n",
    "\n",
    "for i in range(5):\n",
    "\n",
    "    #load in trajectories and obtain topology and indices\n",
    "    alpha = mdtraj.load(f'unrelaxed_model_{i+1}_pred_0.pdb')\n",
    "\n",
    "    alpha_top = alpha.topology\n",
    "\n",
    "    alpha_alphas = alpha_top.select(\"name == CA\")\n",
    "\n",
    "    alpha_backbone = alpha_top.select(\"backbone\")\n",
    "\n",
    "    alpha_sidechains = alpha_top.select(\"sidechain\")\n",
    "\n",
    "    #alpha carbon rmsd in nm \n",
    "    alpha_rmsd = mdtraj.rmsd(alpha, reference, frame=0, atom_indices=target_alphas, parallel=True, precentered=False)\n",
    "    alpha_rmsd_vals.append(alpha_rmsd[0])\n",
    "    print(f'Model {i+1} - RMSD of alpha carbons:', float(alpha_rmsd))\n",
    "\n",
    "    #backbone rmsd\n",
    "    backbone_rmsd = mdtraj.rmsd(alpha, reference, frame=0, atom_indices=target_backbone, parallel=True, precentered=False)\n",
    "    backbone_rmsd_vals.append(backbone_rmsd[0])\n",
    "    print(f'Model {i+1} - RMSD of backbone:', float(backbone_rmsd))\n",
    "\n",
    "    #sidechain rmsd\n",
    "    sidechain_rmsd = mdtraj.rmsd(alpha, reference, frame=0, atom_indices=target_sidechains, parallel=True, precentered=False)\n",
    "    sidechain_rmsd_vals.append(sidechain_rmsd[0])\n",
    "    print(f'Model {i+1} - RMSD of sidechains:', float(sidechain_rmsd), '\\n')"
   ]
  },
  {
   "cell_type": "code",
   "execution_count": 69,
   "metadata": {},
   "outputs": [
    {
     "data": {
      "image/png": "[encoded data removed]",
      "text/plain": [
       "<Figure size 432x288 with 1 Axes>"
      ]
     },
     "metadata": {
      "needs_background": "light"
     },
     "output_type": "display_data"
    }
   ],
   "source": [
    "# bar plots\n",
    "\n",
    "import matplotlib.pyplot as plt\n",
    "\n",
    "x = [i for i in range(1,6)]\n",
    "\n",
    "plt.bar(x, alpha_rmsd_vals)\n",
    "plt.xlabel('Model')\n",
    "plt.ylabel('RMSD (nm)')\n",
    "plt.title('RMSD Values of Alpha Carbons')\n",
    "plt.show()"
   ]
  },
  {
   "cell_type": "code",
   "execution_count": 68,
   "metadata": {},
   "outputs": [
    {
     "data": {
      "image/png": "[encoded data removed]",
      "text/plain": [
       "<Figure size 432x288 with 1 Axes>"
      ]
     },
     "metadata": {
      "needs_background": "light"
     },
     "output_type": "display_data"
    }
   ],
   "source": [
    "plt.bar(x, backbone_rmsd_vals)\n",
    "plt.xlabel('Model')\n",
    "plt.ylabel('RMSD (nm)')\n",
    "plt.title('RMSD Values of Backbone')\n",
    "plt.show()"
   ]
  },
  {
   "cell_type": "code",
   "execution_count": 70,
   "metadata": {},
   "outputs": [
    {
     "data": {
      "image/png": "[encoded data removed]",
      "text/plain": [
       "<Figure size 432x288 with 1 Axes>"
      ]
     },
     "metadata": {
      "needs_background": "light"
     },
     "output_type": "display_data"
    }
   ],
   "source": [
    "plt.bar(x, sidechain_rmsd_vals)\n",
    "plt.xlabel('Model')\n",
    "plt.ylabel('RMSD (nm)')\n",
    "plt.title('RMSD Values of Sidechains')\n",
    "plt.show()"
   ]
  },
  {
   "cell_type": "markdown",
   "metadata": {},
   "source": [
    "## PLDDT Analysis"
   ]
  },
  {
   "cell_type": "markdown",
   "metadata": {},
   "source": [
    "according to the results.json file, model 2 has the highest PLDDT score and is the \"best\" structure"
   ]
  },
  {
   "cell_type": "code",
   "execution_count": 2,
   "metadata": {},
   "outputs": [
    {
     "data": {
      "text/plain": [
       "array([97.13487987, 98.57621178, 98.65728788, 98.49416293, 98.52700971,\n",
       "       98.73498831, 98.50568169, 98.70919839, 98.74157817, 98.56979199,\n",
       "       98.44143837, 98.6267344 , 98.49571369, 98.33594096, 98.42081547,\n",
       "       98.03118156, 98.41691909, 98.2452488 , 97.9681014 , 98.3606105 ,\n",
       "       97.17633055, 96.99532664, 98.20892189, 98.37088683, 98.61131329,\n",
       "       98.71380901, 98.77830543, 98.75973114, 98.78061633, 98.83467527,\n",
       "       98.69548399, 98.79134412, 98.72701477, 98.60017445, 98.57226626,\n",
       "       98.79997903, 98.6319791 , 98.75856982, 98.87129143, 98.79373048,\n",
       "       98.70215459, 98.78686588, 98.64761969, 98.51748999, 98.08657039,\n",
       "       97.84408454, 96.49976862, 96.00022854, 96.83312543, 98.53124061,\n",
       "       98.80032619, 98.81859696, 98.89962804, 98.82232949, 98.82755751,\n",
       "       98.73233713, 98.80690906, 98.7729872 , 98.66691345, 98.76432671,\n",
       "       98.44172734, 98.30282018, 98.67344179, 98.79858671, 98.53855143,\n",
       "       98.58119754, 97.891522  , 97.18498427, 98.05019287, 93.71695473,\n",
       "       95.40888562, 97.14222069, 98.06085839, 98.2465733 , 98.34463993,\n",
       "       98.58766125, 98.27671824, 98.70049754, 98.64712345, 98.84021012,\n",
       "       98.64206334, 98.67367003, 98.8427252 , 98.81445689, 98.40770668,\n",
       "       98.06958565, 98.29353484, 98.60484591, 98.67212504, 98.68519826,\n",
       "       98.80126717, 98.76270183, 98.65529069, 98.74379592, 98.6392781 ,\n",
       "       98.54764231, 98.23174313, 98.30003184, 97.94842351, 96.77770453,\n",
       "       92.85189303, 87.94185715, 94.39174392, 97.1557089 , 97.69672257,\n",
       "       97.78584885, 97.68802428, 98.17182088, 97.39913854, 97.2716002 ,\n",
       "       98.53278199, 98.06226945, 98.31981204, 98.36463081, 98.45831647,\n",
       "       98.02877546, 97.51478682, 97.94275294, 97.93707857, 98.09820143,\n",
       "       97.51443591, 97.6460141 , 98.27938192, 98.34588905, 97.95278871,\n",
       "       98.0904308 , 98.17756715, 94.50103954, 93.93098123])"
      ]
     },
     "execution_count": 2,
     "metadata": {},
     "output_type": "execute_result"
    }
   ],
   "source": [
    "import pickle\n",
    "\n",
    "#load pkl file with data for model 2\n",
    "with open('result_model_2_pred_0.pkl', 'rb') as f:\n",
    "    data = pickle.load(f)\n",
    "\n",
    "#print plddt\n",
    "data['plddt']"
   ]
  },
  {
   "cell_type": "code",
   "execution_count": 44,
   "metadata": {},
   "outputs": [
    {
     "data": {
      "text/plain": [
       "array([[[ -6.956264  ,  11.312857  ,  -7.5276704 ],\n",
       "        [ -8.034733  ,  11.526773  ,  -6.567012  ],\n",
       "        [ -7.4823446 ,  11.769025  ,  -5.1652775 ],\n",
       "        ...,\n",
       "        [ -0.        ,   0.        ,  -0.        ],\n",
       "        [-13.299504  ,  10.04332   ,  -4.8824883 ],\n",
       "        [ -0.        ,   0.        ,  -0.        ]],\n",
       "\n",
       "       [[ -8.052031  ,  12.7753    ,  -4.5706186 ],\n",
       "        [ -7.736005  ,  12.964316  ,  -3.1586819 ],\n",
       "        [ -8.900316  ,  12.477943  ,  -2.298712  ],\n",
       "        ...,\n",
       "        [ -0.        ,   0.        ,  -0.        ],\n",
       "        [ -0.        ,   0.        ,  -0.        ],\n",
       "        [ -0.        ,   0.        ,  -0.        ]],\n",
       "\n",
       "       [[ -8.664957  ,  11.417114  ,  -1.492051  ],\n",
       "        [ -9.6840105 ,  10.792213  ,  -0.65711224],\n",
       "        [ -9.95105   ,  11.628689  ,   0.58851004],\n",
       "        ...,\n",
       "        [ -0.        ,   0.        ,  -0.        ],\n",
       "        [ -0.        ,   0.        ,  -0.        ],\n",
       "        [ -0.        ,   0.        ,  -0.        ]],\n",
       "\n",
       "       ...,\n",
       "\n",
       "       [[-15.773809  ,   7.3976183 ,  11.4958935 ],\n",
       "        [-16.088562  ,   6.8353233 ,  10.187351  ],\n",
       "        [-17.164473  ,   5.761817  ,  10.299495  ],\n",
       "        ...,\n",
       "        [ -0.        ,   0.        ,   0.        ],\n",
       "        [ -0.        ,   0.        ,   0.        ],\n",
       "        [ -0.        ,   0.        ,   0.        ]],\n",
       "\n",
       "       [[-18.136133  ,   5.7393656 ,   9.397672  ],\n",
       "        [-19.123804  ,   4.668517  ,   9.311586  ],\n",
       "        [-18.613684  ,   3.5213842 ,   8.445856  ],\n",
       "        ...,\n",
       "        [ -0.        ,   0.        ,   0.        ],\n",
       "        [ -0.        ,   0.        ,   0.        ],\n",
       "        [ -0.        ,   0.        ,   0.        ]],\n",
       "\n",
       "       [[-17.956951  ,   2.4222271 ,   9.083282  ],\n",
       "        [-17.230957  ,   1.3616998 ,   8.393076  ],\n",
       "        [-17.958391  ,   0.02818418,   8.527988  ],\n",
       "        ...,\n",
       "        [ -0.        ,   0.        ,   0.        ],\n",
       "        [ -0.        ,   0.        ,   0.        ],\n",
       "        [ -0.        ,   0.        ,   0.        ]]], dtype=float32)"
      ]
     },
     "execution_count": 44,
     "metadata": {},
     "output_type": "execute_result"
    }
   ],
   "source": [
    "#print atom positions\n",
    "data['structure_module']['final_atom_positions']"
   ]
  },
  {
   "cell_type": "markdown",
   "metadata": {},
   "source": [
    "the positions in the .pkl file correspond to the position coordinates in the pdb file for the unrelaxed structure"
   ]
  },
  {
   "cell_type": "code",
   "execution_count": 20,
   "metadata": {},
   "outputs": [
    {
     "data": {
      "text/plain": [
       "{'model 1': 97.84092750703842,\n",
       " 'model 2': 98.03432368790108,\n",
       " 'model 3': 97.93382938790018,\n",
       " 'model 4': 97.88437654728033,\n",
       " 'model 5': 98.01244623968363}"
      ]
     },
     "execution_count": 20,
     "metadata": {},
     "output_type": "execute_result"
    }
   ],
   "source": [
    "#comparing plddt to rmsd values\n",
    "\n",
    "import numpy as np\n",
    "\n",
    "avg_plddt_dict = {}\n",
    "avg_plddt = []\n",
    "\n",
    "for i in range(1,6):\n",
    "    with open(f'result_model_{i}_pred_0.pkl', 'rb') as f:\n",
    "        data = pickle.load(f)\n",
    "\n",
    "    plddt_array = data['plddt']\n",
    "    \n",
    "    avg = np.mean(data['plddt'])\n",
    "    \n",
    "    avg_plddt_dict[f'model {i}'] = avg\n",
    "    avg_plddt.append(avg)\n",
    "\n",
    "avg_plddt_dict"
   ]
  },
  {
   "cell_type": "code",
   "execution_count": 21,
   "metadata": {},
   "outputs": [
    {
     "data": {
      "text/plain": [
       "{'model 1': 0.20441955,\n",
       " 'model 2': 0.20049986,\n",
       " 'model 3': 0.20607118,\n",
       " 'model 4': 0.20432518,\n",
       " 'model 5': 0.20384727}"
      ]
     },
     "execution_count": 21,
     "metadata": {},
     "output_type": "execute_result"
    }
   ],
   "source": [
    "rmsd_vals_dict = {}\n",
    "rmsd_vals = []\n",
    "\n",
    "for i in range(5):\n",
    "\n",
    "    alpha = mdtraj.load(f'unrelaxed_model_{i+1}_pred_0.pdb')\n",
    "\n",
    "    alpha_top = alpha.topology\n",
    "    \n",
    "    all_atoms = alpha_top.select(\"all\")\n",
    "\n",
    "    rmsd = mdtraj.rmsd(alpha, reference, frame=0, atom_indices=all_atoms, parallel=True, precentered=False)\n",
    "\n",
    "    rmsd_vals_dict[f'model {i+1}'] = rmsd[0]\n",
    "    \n",
    "    rmsd_vals.append(rmsd[0])\n",
    "\n",
    "rmsd_vals_dict"
   ]
  },
  {
   "cell_type": "code",
   "execution_count": 28,
   "metadata": {},
   "outputs": [
    {
     "data": {
      "image/png": "[encoded data removed]",
      "text/plain": [
       "<Figure size 432x288 with 1 Axes>"
      ]
     },
     "metadata": {
      "needs_background": "light"
     },
     "output_type": "display_data"
    }
   ],
   "source": [
    "plt.scatter(rmsd_vals, avg_plddt)\n",
    "plt.xlabel('RMSD  of structure')\n",
    "plt.ylabel('PLDDT Score of structure')\n",
    "plt.title('Investigating correlation between RMSD and PLDDT score for predicted structures of lysozyme')\n",
    "plt.savefig('rmsd_vs_plddt.png')\n",
    "plt.show()"
   ]
  },
  {
   "cell_type": "markdown",
   "metadata": {},
   "source": [
    "doesn't appear to be a significant correlation between rmsd values (computed for the entire structure with all atoms) and PLDDT scores for the structures"
   ]
  }
 ],
 "metadata": {
  "kernelspec": {
   "display_name": "Python 3",
   "language": "python",
   "name": "python3"
  },
  "language_info": {
   "codemirror_mode": {
    "name": "ipython",
    "version": 3
   },
   "file_extension": ".py",
   "mimetype": "text/x-python",
   "name": "python",
   "nbconvert_exporter": "python",
   "pygments_lexer": "ipython3",
   "version": "3.8.6"
  }
 },
 "nbformat": 4,
 "nbformat_minor": 4
}
