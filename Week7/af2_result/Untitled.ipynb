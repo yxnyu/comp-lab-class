{
 "cells": [
  {
   "cell_type": "code",
   "execution_count": 1,
   "metadata": {},
   "outputs": [],
   "source": [
    "# this notebook is for plotting\n",
    "# the end to end analysis\n",
    "import numpy as np\n",
    "import matplotlib.pyplot as plt\n",
    "#load mdtraj\n",
    "import mdtraj as md"
   ]
  },
  {
   "cell_type": "code",
   "execution_count": 11,
   "metadata": {},
   "outputs": [
    {
     "name": "stdout",
     "output_type": "stream",
     "text": [
      "<mdtraj.Trajectory with 1 frames, 972 atoms, 119 residues, without unitcells>\n",
      "<mdtraj.Trajectory with 1 frames, 1804 atoms, 145 residues, and unitcells>\n"
     ]
    }
   ],
   "source": [
    "trj1=md.load_pdb('6D1R_0e9b1_unrelaxed_rank_1_model_2.pdb')\n",
    "trj2=md.load_pdb('6D1R_0e9b1_unrelaxed_rank_2_model_3.pdb')\n",
    "trj3=md.load_pdb('6D1R_0e9b1_unrelaxed_rank_3_model_1.pdb')\n",
    "trj4=md.load_pdb('6D1R_0e9b1_unrelaxed_rank_4_model_5.pdb')\n",
    "trj5=md.load_pdb('6D1R_0e9b1_unrelaxed_rank_5_model_4.pdb')\n",
    "trj_real=md.load_pdb('6d1r.pdb')\n",
    "\n",
    "rmsd1=md.rmsd(trj1,trj_real,crystal.top.select)\n",
    "print(trj1)\n",
    "print(trj_real)\n"
   ]
  },
  {
   "cell_type": "code",
   "execution_count": null,
   "metadata": {},
   "outputs": [],
   "source": []
  }
 ],
 "metadata": {
  "kernelspec": {
   "display_name": "Python 3",
   "language": "python",
   "name": "python3"
  },
  "language_info": {
   "codemirror_mode": {
    "name": "ipython",
    "version": 3
   },
   "file_extension": ".py",
   "mimetype": "text/x-python",
   "name": "python",
   "nbconvert_exporter": "python",
   "pygments_lexer": "ipython3",
   "version": "3.8.6"
  }
 },
 "nbformat": 4,
 "nbformat_minor": 4
}
