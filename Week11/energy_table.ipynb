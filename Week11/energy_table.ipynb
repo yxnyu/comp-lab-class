{
 "cells": [
  {
   "cell_type": "code",
   "execution_count": 34,
   "metadata": {},
   "outputs": [],
   "source": [
    "import rdkit\n",
    "from rdkit import Chem\n",
    "from rdkit.Chem import AllChem\n",
    "\n",
    "from rdkit.Chem import Draw\n",
    "from rdkit.Chem.Draw import IPythonConsole\n",
    "from psikit import Psikit\n",
    "rdkit.__version__\n",
    "from psikit import Psikit"
   ]
  },
  {
   "cell_type": "code",
   "execution_count": 35,
   "metadata": {},
   "outputs": [],
   "source": [
    "import pandas as pd\n",
    "import matplotlib.pyplot as plt\n",
    "import numpy as np\n",
    "from rdkit.Chem import PandasTools"
   ]
  },
  {
   "cell_type": "code",
   "execution_count": 36,
   "metadata": {},
   "outputs": [],
   "source": [
    "import pandas as pd\n",
    "import matplotlib.pyplot as plt\n",
    "\n",
    "data=pd.read_csv('week11.csv')"
   ]
  },
  {
   "cell_type": "code",
   "execution_count": 37,
   "metadata": {},
   "outputs": [
    {
     "data": {
      "text/html": [
       "<div>\n",
       "<style scoped>\n",
       "    .dataframe tbody tr th:only-of-type {\n",
       "        vertical-align: middle;\n",
       "    }\n",
       "\n",
       "    .dataframe tbody tr th {\n",
       "        vertical-align: top;\n",
       "    }\n",
       "\n",
       "    .dataframe thead th {\n",
       "        text-align: right;\n",
       "    }\n",
       "</style>\n",
       "<table border=\"1\" class=\"dataframe\">\n",
       "  <thead>\n",
       "    <tr style=\"text-align: right;\">\n",
       "      <th></th>\n",
       "      <th>smiles</th>\n",
       "      <th>ROMol</th>\n",
       "    </tr>\n",
       "  </thead>\n",
       "  <tbody>\n",
       "    <tr>\n",
       "      <th>0</th>\n",
       "      <td>C1=CCC=CC1</td>\n",
       "      <td>&lt;rdkit.Chem.rdchem.Mol object at 0x150304d50890&gt;</td>\n",
       "    </tr>\n",
       "    <tr>\n",
       "      <th>1</th>\n",
       "      <td>C1=CC=CC=C1</td>\n",
       "      <td>&lt;rdkit.Chem.rdchem.Mol object at 0x150304d504a0&gt;</td>\n",
       "    </tr>\n",
       "    <tr>\n",
       "      <th>2</th>\n",
       "      <td>C1=C(C)C=CC=C1</td>\n",
       "      <td>&lt;rdkit.Chem.rdchem.Mol object at 0x15030ba136d0&gt;</td>\n",
       "    </tr>\n",
       "    <tr>\n",
       "      <th>3</th>\n",
       "      <td>C1CCC2CCCCC2C1</td>\n",
       "      <td>&lt;rdkit.Chem.rdchem.Mol object at 0x15030ba137b0&gt;</td>\n",
       "    </tr>\n",
       "  </tbody>\n",
       "</table>\n",
       "</div>"
      ],
      "text/plain": [
       "           smiles                                             ROMol\n",
       "0      C1=CCC=CC1  <rdkit.Chem.rdchem.Mol object at 0x150304d50890>\n",
       "1     C1=CC=CC=C1  <rdkit.Chem.rdchem.Mol object at 0x150304d504a0>\n",
       "2  C1=C(C)C=CC=C1  <rdkit.Chem.rdchem.Mol object at 0x15030ba136d0>\n",
       "3  C1CCC2CCCCC2C1  <rdkit.Chem.rdchem.Mol object at 0x15030ba137b0>"
      ]
     },
     "execution_count": 37,
     "metadata": {},
     "output_type": "execute_result"
    }
   ],
   "source": [
    "data['smiles']\n",
    "PandasTools.AddMoleculeColumnToFrame(data, smilesCol='smiles')\n",
    "data.head(4)"
   ]
  },
  {
   "cell_type": "code",
   "execution_count": 38,
   "metadata": {},
   "outputs": [
    {
     "data": {
      "text/html": [
       "<div>\n",
       "<style scoped>\n",
       "    .dataframe tbody tr th:only-of-type {\n",
       "        vertical-align: middle;\n",
       "    }\n",
       "\n",
       "    .dataframe tbody tr th {\n",
       "        vertical-align: top;\n",
       "    }\n",
       "\n",
       "    .dataframe thead th {\n",
       "        text-align: right;\n",
       "    }\n",
       "</style>\n",
       "<table border=\"1\" class=\"dataframe\">\n",
       "  <thead>\n",
       "    <tr style=\"text-align: right;\">\n",
       "      <th></th>\n",
       "      <th>smiles</th>\n",
       "      <th>ROMol</th>\n",
       "      <th>n_Atoms</th>\n",
       "    </tr>\n",
       "  </thead>\n",
       "  <tbody>\n",
       "    <tr>\n",
       "      <th>0</th>\n",
       "      <td>C1=CCC=CC1</td>\n",
       "      <td>&lt;rdkit.Chem.rdchem.Mol object at 0x150304d50890&gt;</td>\n",
       "      <td>6</td>\n",
       "    </tr>\n",
       "    <tr>\n",
       "      <th>1</th>\n",
       "      <td>C1=CC=CC=C1</td>\n",
       "      <td>&lt;rdkit.Chem.rdchem.Mol object at 0x150304d504a0&gt;</td>\n",
       "      <td>6</td>\n",
       "    </tr>\n",
       "    <tr>\n",
       "      <th>2</th>\n",
       "      <td>C1=C(C)C=CC=C1</td>\n",
       "      <td>&lt;rdkit.Chem.rdchem.Mol object at 0x15030ba136d0&gt;</td>\n",
       "      <td>7</td>\n",
       "    </tr>\n",
       "    <tr>\n",
       "      <th>3</th>\n",
       "      <td>C1CCC2CCCCC2C1</td>\n",
       "      <td>&lt;rdkit.Chem.rdchem.Mol object at 0x15030ba137b0&gt;</td>\n",
       "      <td>10</td>\n",
       "    </tr>\n",
       "  </tbody>\n",
       "</table>\n",
       "</div>"
      ],
      "text/plain": [
       "           smiles                                             ROMol  n_Atoms\n",
       "0      C1=CCC=CC1  <rdkit.Chem.rdchem.Mol object at 0x150304d50890>        6\n",
       "1     C1=CC=CC=C1  <rdkit.Chem.rdchem.Mol object at 0x150304d504a0>        6\n",
       "2  C1=C(C)C=CC=C1  <rdkit.Chem.rdchem.Mol object at 0x15030ba136d0>        7\n",
       "3  C1CCC2CCCCC2C1  <rdkit.Chem.rdchem.Mol object at 0x15030ba137b0>       10"
      ]
     },
     "execution_count": 38,
     "metadata": {},
     "output_type": "execute_result"
    }
   ],
   "source": [
    "data[\"n_Atoms\"] = data['ROMol'].map(lambda x: x.GetNumAtoms())\n",
    "data.head(4)"
   ]
  },
  {
   "cell_type": "code",
   "execution_count": 39,
   "metadata": {},
   "outputs": [
    {
     "name": "stdout",
     "output_type": "stream",
     "text": [
      "CPU times: user 3.79 ms, sys: 1.05 ms, total: 4.84 ms\n",
      "Wall time: 4.42 ms\n"
     ]
    }
   ],
   "source": [
    "%%time\n",
    "list=[]\n",
    "pk=Psikit()\n",
    "pk.read_from_smiles(data['smiles'][0])\n"
   ]
  },
  {
   "cell_type": "code",
   "execution_count": 40,
   "metadata": {},
   "outputs": [
    {
     "name": "stdout",
     "output_type": "stream",
     "text": [
      "Optimizer: Optimization complete!\n"
     ]
    },
    {
     "data": {
      "image/png": "[encoded data removed]",
      "text/plain": [
       "<rdkit.Chem.rdchem.Mol at 0x150376797ef0>"
      ]
     },
     "execution_count": 40,
     "metadata": {},
     "output_type": "execute_result"
    }
   ],
   "source": [
    "a=pk.optimize()\n",
    "list.append(a)\n",
    "pk.mol"
   ]
  },
  {
   "cell_type": "code",
   "execution_count": 41,
   "metadata": {},
   "outputs": [
    {
     "name": "stdout",
     "output_type": "stream",
     "text": [
      "Optimizer: Optimization complete!\n"
     ]
    },
    {
     "data": {
      "image/png": "[encoded data removed]",
      "text/plain": [
       "<rdkit.Chem.rdchem.Mol at 0x150376934680>"
      ]
     },
     "execution_count": 41,
     "metadata": {},
     "output_type": "execute_result"
    }
   ],
   "source": [
    "pk.read_from_smiles(data['smiles'][1])\n",
    "b=pk.optimize()\n",
    "list.append(b)\n",
    "pk.mol"
   ]
  },
  {
   "cell_type": "code",
   "execution_count": 42,
   "metadata": {},
   "outputs": [
    {
     "name": "stdout",
     "output_type": "stream",
     "text": [
      "Optimizer: Optimization complete!\n"
     ]
    },
    {
     "data": {
      "image/png": "[encoded data removed]",
      "text/plain": [
       "<rdkit.Chem.rdchem.Mol at 0x15030b97cd10>"
      ]
     },
     "execution_count": 42,
     "metadata": {},
     "output_type": "execute_result"
    }
   ],
   "source": [
    "pk.read_from_smiles(data['smiles'][2])\n",
    "c=pk.optimize()\n",
    "list.append(c)\n",
    "pk.mol"
   ]
  },
  {
   "cell_type": "code",
   "execution_count": 43,
   "metadata": {},
   "outputs": [
    {
     "data": {
      "text/plain": [
       "'C1=CCC=CC1'"
      ]
     },
     "execution_count": 43,
     "metadata": {},
     "output_type": "execute_result"
    }
   ],
   "source": [
    "data['smiles'][0]"
   ]
  },
  {
   "cell_type": "code",
   "execution_count": 44,
   "metadata": {},
   "outputs": [
    {
     "name": "stdout",
     "output_type": "stream",
     "text": [
      "Optimizer: Optimization complete!\n"
     ]
    },
    {
     "data": {
      "image/png": "[encoded data removed]",
      "text/plain": [
       "<rdkit.Chem.rdchem.Mol at 0x15031cbefe00>"
      ]
     },
     "execution_count": 44,
     "metadata": {},
     "output_type": "execute_result"
    }
   ],
   "source": [
    "pk.read_from_smiles(data['smiles'][3])\n",
    "d=pk.optimize()\n",
    "list.append(d)\n",
    "pk.mol"
   ]
  },
  {
   "cell_type": "code",
   "execution_count": 45,
   "metadata": {},
   "outputs": [
    {
     "name": "stdout",
     "output_type": "stream",
     "text": [
      "Optimizer: Optimization complete!\n",
      "Optimizer: Optimization complete!\n",
      "Optimizer: Optimization complete!\n",
      "Optimizer: Optimization complete!\n",
      "Optimizer: Optimization complete!\n",
      "Optimizer: Optimization complete!\n"
     ]
    },
    {
     "data": {
      "image/png": "[encoded data removed]",
      "text/plain": [
       "<rdkit.Chem.rdchem.Mol at 0x1503768f79a0>"
      ]
     },
     "execution_count": 45,
     "metadata": {},
     "output_type": "execute_result"
    }
   ],
   "source": [
    "pk.read_from_smiles(data['smiles'][4])\n",
    "e=pk.optimize()\n",
    "list.append(e)\n",
    "pk.mol\n",
    "\n",
    "pk.read_from_smiles(data['smiles'][5])\n",
    "f=pk.optimize()\n",
    "list.append(f)\n",
    "pk.mol\n",
    "\n",
    "pk.read_from_smiles(data['smiles'][6])\n",
    "g=pk.optimize()\n",
    "list.append(g)\n",
    "pk.mol\n",
    "\n",
    "pk.read_from_smiles(data['smiles'][7])\n",
    "h=pk.optimize()\n",
    "list.append(h)\n",
    "pk.mol\n",
    "\n",
    "pk.read_from_smiles(data['smiles'][8])\n",
    "i=pk.optimize()\n",
    "list.append(i)\n",
    "pk.mol\n",
    "\n",
    "pk.read_from_smiles(data['smiles'][9])\n",
    "j=pk.optimize()\n",
    "list.append(j)\n",
    "pk.mol"
   ]
  },
  {
   "cell_type": "code",
   "execution_count": null,
   "metadata": {},
   "outputs": [],
   "source": []
  },
  {
   "cell_type": "code",
   "execution_count": 46,
   "metadata": {},
   "outputs": [
    {
     "data": {
      "text/plain": [
       "[-231.8467615484895,\n",
       " -230.7135235418924,\n",
       " -269.75355216700467,\n",
       " -389.19415459988033,\n",
       " -78.03876941150989,\n",
       " -113.86953646693757,\n",
       " -92.87694247779253,\n",
       " -154.0899187072605,\n",
       " -266.8589851578266,\n",
       " -206.79554182943332]"
      ]
     },
     "execution_count": 46,
     "metadata": {},
     "output_type": "execute_result"
    }
   ],
   "source": [
    "list"
   ]
  },
  {
   "cell_type": "code",
   "execution_count": 47,
   "metadata": {},
   "outputs": [],
   "source": [
    "data['energy'] = list\n",
    "#将新的csv文件保存#\n",
    "data.to_csv('week11.csv',index=False,encoding='utf-8')\n"
   ]
  },
  {
   "cell_type": "code",
   "execution_count": 48,
   "metadata": {},
   "outputs": [
    {
     "data": {
      "text/html": [
       "<div>\n",
       "<style scoped>\n",
       "    .dataframe tbody tr th:only-of-type {\n",
       "        vertical-align: middle;\n",
       "    }\n",
       "\n",
       "    .dataframe tbody tr th {\n",
       "        vertical-align: top;\n",
       "    }\n",
       "\n",
       "    .dataframe thead th {\n",
       "        text-align: right;\n",
       "    }\n",
       "</style>\n",
       "<table border=\"1\" class=\"dataframe\">\n",
       "  <thead>\n",
       "    <tr style=\"text-align: right;\">\n",
       "      <th></th>\n",
       "      <th>smiles</th>\n",
       "      <th>ROMol</th>\n",
       "      <th>n_Atoms</th>\n",
       "      <th>energy</th>\n",
       "    </tr>\n",
       "  </thead>\n",
       "  <tbody>\n",
       "    <tr>\n",
       "      <th>0</th>\n",
       "      <td>C1=CCC=CC1</td>\n",
       "      <td style=\"text-align: center;\"><div style=\"width: 200px; height: 200px\" data-content=\"rdkit/molecule\"><img src=\"data:image/png;base64,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\" alt=\"Mol\"/></div></td>\n",
       "      <td>6</td>\n",
       "      <td>-231.846762</td>\n",
       "    </tr>\n",
       "    <tr>\n",
       "      <th>1</th>\n",
       "      <td>C1=CC=CC=C1</td>\n",
       "      <td style=\"text-align: center;\"><div style=\"width: 200px; height: 200px\" data-content=\"rdkit/molecule\"><img src=\"data:image/png;base64,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\" alt=\"Mol\"/></div></td>\n",
       "      <td>6</td>\n",
       "      <td>-230.713524</td>\n",
       "    </tr>\n",
       "    <tr>\n",
       "      <th>2</th>\n",
       "      <td>C1=C(C)C=CC=C1</td>\n",
       "      <td style=\"text-align: center;\"><div style=\"width: 200px; height: 200px\" data-content=\"rdkit/molecule\"><img src=\"data:image/png;base64,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\" alt=\"Mol\"/></div></td>\n",
       "      <td>7</td>\n",
       "      <td>-269.753552</td>\n",
       "    </tr>\n",
       "    <tr>\n",
       "      <th>3</th>\n",
       "      <td>C1CCC2CCCCC2C1</td>\n",
       "      <td style=\"text-align: center;\"><div style=\"width: 200px; height: 200px\" data-content=\"rdkit/molecule\"><img src=\"data:image/png;base64,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\" alt=\"Mol\"/></div></td>\n",
       "      <td>10</td>\n",
       "      <td>-389.194155</td>\n",
       "    </tr>\n",
       "    <tr>\n",
       "      <th>4</th>\n",
       "      <td>C=C</td>\n",
       "      <td style=\"text-align: center;\"><div style=\"width: 200px; height: 200px\" data-content=\"rdkit/molecule\"><img src=\"data:image/png;base64,iVBORw0KGgoAAAANSUhEUgAAAMgAAADICAIAAAAiOjnJAAAABmJLR0QA/wD/AP+gvaeTAAACdElEQVR4nO3csXHCQBBAUeNxokiZKhNdUA50QXNEhOcKpIDxlwf7vXSTDf5oLlmdxhgf8NM+f3sB/iZhkRAWCWGREBYJYZEQFglhkRAWCWGREBYJYZEQFglhkRAWCWGREBYJYZEQFglhkRAWCWGREBYJYZEQFglhkRAWCWGREBYJYZEQFglhkRAWCWGREBYJYZEQFglhkRAWCWGREBYJYZEQFglhkRAWCWGREBYJYZEQFglhkRAWCWGREBYJYZEQFglhkRAWCWGREBYJYZEQFglhkRAWCWGREBYJYZEQFglhkRAWCWGREBYJYZEQFglhkRAWCWGREBYJYZEQFglhkRAWCWGREBYJYZH42pldLpfH43HYKryXeZ6v1+vmeGxbluXAPXkzy7LsxLP3xbrdbs/n87BFeS/TNO1MT2OMw1bh//B4JyEsEsIiISwSwiIhLBLCIiEsEsIiISwSwiIhLBLCIiEsEsIiISwSwiIhLBLCIiEsEsIiISwSwiKxd7B6v98drLJlmqZ1XTfHTux5zesn9ufz2U9B2DLP887UiT0Jj3cSwiIhLBLCIiEsEsIiISwSwiIhLBLCIiEsEsIiISwSwiIhLBLCIiEsEsIiISwSwiIhLBLCIiEsEsIiISwSwiIhLBLCIiEsEsIiISwSwiIhLBLCIiEsEsIiISwSwiIhLBLCIiEsEsIiISwSwiIhLBLCIiEsEsIiISwSwiIhLBLCIiEsEsIiISwSwiIhLBLCIiEsEsIiISwSwiIhLBLCIiEsEsIiISwSwiIhLBLCIiEsEsIiISwSwiIhLBLCIiEsEsIiISwSwiIhLBLCIiEsEsIi8Q3gs4vjPFEe6gAAAFp6VFh0cmRraXRQS0wgcmRraXQgMjAyMi4wOS4xAAB4nHu/b+09BiDgZYAARiBmgtINjGwMGUCamYkJzuBmYORgEmEQV4KqAQOgBof9QPUqEK6DPZC9BMQSAwDJTQh3NH05aQAAAJh6VFh0TU9MIHJka2l0IDIwMjIuMDkuMQAAeJzjUgCBIBfvzBIFODBy4eJSUDDAgywtLRXCjA0MDLh8FUAMBSdXd08/BecQRyeYiLN/qF9IsIKRgiFQBxCiqnQM8feFiRgqOCvoGuiZmwLNAyrUMzBAY8AUGgEVwtXp4lHo6ueCYgPETid/PxeEnSCHGSFrQJYG8WGeAbK5AOUVOSOqFQdgAAAAMnpUWHRTTUlMRVMgcmRraXQgMjAyMi4wOS4xAAB4nHO2dVao0dA10DM31THQsYbSmjUAQbkFOT+S6KQAAAAASUVORK5CYII=\" alt=\"Mol\"/></div></td>\n",
       "      <td>2</td>\n",
       "      <td>-78.038769</td>\n",
       "    </tr>\n",
       "    <tr>\n",
       "      <th>5</th>\n",
       "      <td>C=O</td>\n",
       "      <td style=\"text-align: center;\"><div style=\"width: 200px; height: 200px\" data-content=\"rdkit/molecule\"><img src=\"data:image/png;base64,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\" alt=\"Mol\"/></div></td>\n",
       "      <td>2</td>\n",
       "      <td>-113.869536</td>\n",
       "    </tr>\n",
       "    <tr>\n",
       "      <th>6</th>\n",
       "      <td>C#N</td>\n",
       "      <td style=\"text-align: center;\"><div style=\"width: 200px; height: 200px\" data-content=\"rdkit/molecule\"><img src=\"data:image/png;base64,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\" alt=\"Mol\"/></div></td>\n",
       "      <td>2</td>\n",
       "      <td>-92.876942</td>\n",
       "    </tr>\n",
       "    <tr>\n",
       "      <th>7</th>\n",
       "      <td>CCO</td>\n",
       "      <td style=\"text-align: center;\"><div style=\"width: 200px; height: 200px\" data-content=\"rdkit/molecule\"><img src=\"data:image/png;base64,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\" alt=\"Mol\"/></div></td>\n",
       "      <td>3</td>\n",
       "      <td>-154.089919</td>\n",
       "    </tr>\n",
       "    <tr>\n",
       "      <th>8</th>\n",
       "      <td>CCC(=O)O</td>\n",
       "      <td style=\"text-align: center;\"><div style=\"width: 200px; height: 200px\" data-content=\"rdkit/molecule\"><img src=\"data:image/png;base64,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\" alt=\"Mol\"/></div></td>\n",
       "      <td>5</td>\n",
       "      <td>-266.858985</td>\n",
       "    </tr>\n",
       "    <tr>\n",
       "      <th>9</th>\n",
       "      <td>CN=C=O</td>\n",
       "      <td style=\"text-align: center;\"><div style=\"width: 200px; height: 200px\" data-content=\"rdkit/molecule\"><img src=\"data:image/png;base64,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\" alt=\"Mol\"/></div></td>\n",
       "      <td>4</td>\n",
       "      <td>-206.795542</td>\n",
       "    </tr>\n",
       "  </tbody>\n",
       "</table>\n",
       "</div>"
      ],
      "text/plain": [
       "           smiles                                             ROMol  n_Atoms  \\\n",
       "0      C1=CCC=CC1  <rdkit.Chem.rdchem.Mol object at 0x150304d50890>        6   \n",
       "1     C1=CC=CC=C1  <rdkit.Chem.rdchem.Mol object at 0x150304d504a0>        6   \n",
       "2  C1=C(C)C=CC=C1  <rdkit.Chem.rdchem.Mol object at 0x15030ba136d0>        7   \n",
       "3  C1CCC2CCCCC2C1  <rdkit.Chem.rdchem.Mol object at 0x15030ba137b0>       10   \n",
       "4             C=C  <rdkit.Chem.rdchem.Mol object at 0x15030ba13820>        2   \n",
       "5             C=O  <rdkit.Chem.rdchem.Mol object at 0x15030ba13900>        2   \n",
       "6             C#N  <rdkit.Chem.rdchem.Mol object at 0x15030ba13970>        2   \n",
       "7             CCO  <rdkit.Chem.rdchem.Mol object at 0x15030ba13890>        3   \n",
       "8        CCC(=O)O  <rdkit.Chem.rdchem.Mol object at 0x15030ba13ac0>        5   \n",
       "9          CN=C=O  <rdkit.Chem.rdchem.Mol object at 0x15030ba13a50>        4   \n",
       "\n",
       "       energy  \n",
       "0 -231.846762  \n",
       "1 -230.713524  \n",
       "2 -269.753552  \n",
       "3 -389.194155  \n",
       "4  -78.038769  \n",
       "5 -113.869536  \n",
       "6  -92.876942  \n",
       "7 -154.089919  \n",
       "8 -266.858985  \n",
       "9 -206.795542  "
      ]
     },
     "execution_count": 48,
     "metadata": {},
     "output_type": "execute_result"
    }
   ],
   "source": [
    "data"
   ]
  },
  {
   "cell_type": "code",
   "execution_count": null,
   "metadata": {},
   "outputs": [],
   "source": []
  },
  {
   "cell_type": "code",
   "execution_count": null,
   "metadata": {},
   "outputs": [],
   "source": []
  },
  {
   "cell_type": "code",
   "execution_count": null,
   "metadata": {},
   "outputs": [],
   "source": []
  },
  {
   "cell_type": "code",
   "execution_count": null,
   "metadata": {},
   "outputs": [],
   "source": []
  }
 ],
 "metadata": {
  "kernelspec": {
   "display_name": "lab_env",
   "language": "python",
   "name": "lab_env"
  },
  "language_info": {
   "codemirror_mode": {
    "name": "ipython",
    "version": 3
   },
   "file_extension": ".py",
   "mimetype": "text/x-python",
   "name": "python",
   "nbconvert_exporter": "python",
   "pygments_lexer": "ipython3",
   "version": "3.9.12"
  }
 },
 "nbformat": 4,
 "nbformat_minor": 4
}
